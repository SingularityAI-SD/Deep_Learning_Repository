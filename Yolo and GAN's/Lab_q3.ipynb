{
  "nbformat": 4,
  "nbformat_minor": 0,
  "metadata": {
    "colab": {
      "provenance": [],
      "gpuType": "T4"
    },
    "kernelspec": {
      "name": "python3",
      "display_name": "Python 3"
    },
    "language_info": {
      "name": "python"
    },
    "accelerator": "GPU"
  },
  "cells": [
    {
      "cell_type": "code",
      "source": [
        "!pip install watermark"
      ],
      "metadata": {
        "id": "EH1tscQ-Cifz"
      },
      "execution_count": null,
      "outputs": []
    },
    {
      "cell_type": "code",
      "source": [
        "%load_ext watermark"
      ],
      "metadata": {
        "id": "xKm0ZHK7CiWt"
      },
      "execution_count": 2,
      "outputs": []
    },
    {
      "cell_type": "code",
      "source": [
        "%watermark -a \"Rishit Kapoor 21BAI1046\" -u -d -v -m"
      ],
      "metadata": {
        "colab": {
          "base_uri": "https://localhost:8080/"
        },
        "id": "iQiXSBraCiPp",
        "outputId": "00192af5-9418-4a2b-a1ef-612f6b356401"
      },
      "execution_count": 3,
      "outputs": [
        {
          "output_type": "stream",
          "name": "stdout",
          "text": [
            "Author: Rishit Kapoor 21BAI1046\n",
            "\n",
            "Last updated: 2024-03-26\n",
            "\n",
            "Python implementation: CPython\n",
            "Python version       : 3.10.12\n",
            "IPython version      : 7.34.0\n",
            "\n",
            "Compiler    : GCC 11.4.0\n",
            "OS          : Linux\n",
            "Release     : 6.1.58+\n",
            "Machine     : x86_64\n",
            "Processor   : x86_64\n",
            "CPU cores   : 2\n",
            "Architecture: 64bit\n",
            "\n"
          ]
        }
      ]
    },
    {
      "cell_type": "code",
      "source": [
        "import numpy as np\n",
        "from keras.datasets import mnist\n",
        "from keras.models import Model\n",
        "from keras.layers import Input, Dense, Reshape, Conv2D, Flatten, Conv2DTranspose\n",
        "\n",
        "# Load MNIST dataset\n",
        "(x_train, _), (x_test, _) = mnist.load_data()\n",
        "\n",
        "# Normalize and reshape the data\n",
        "x_train = x_train.astype('float32') / 255.\n",
        "x_test = x_test.astype('float32') / 255.\n",
        "x_train = np.expand_dims(x_train, axis=-1)\n",
        "x_test = np.expand_dims(x_test, axis=-1)\n",
        "\n",
        "# Define the encoder architecture\n",
        "input_img = Input(shape=(28, 28, 1))\n",
        "x = Conv2D(32, (3, 3), activation='relu', padding='same')(input_img)\n",
        "x = Conv2D(64, (3, 3), activation='relu', padding='same')(x)\n",
        "encoded = Conv2D(64, (3, 3), activation='relu', padding='same')(x)\n",
        "\n",
        "# Define the decoder architecture\n",
        "x = Conv2D(64, (3, 3), activation='relu', padding='same')(encoded)\n",
        "x = Conv2D(32, (3, 3), activation='relu', padding='same')(x)\n",
        "decoded = Conv2D(1, (3, 3), activation='sigmoid', padding='same')(x)\n",
        "\n",
        "# Create autoencoder model\n",
        "autoencoder = Model(input_img, decoded)\n",
        "autoencoder.compile(optimizer='adam', loss='binary_crossentropy')\n",
        "\n",
        "# Train the autoencoder\n",
        "autoencoder.fit(x_train, x_train,\n",
        "                epochs=50,\n",
        "                batch_size=128,\n",
        "                shuffle=True,\n",
        "                validation_data=(x_test, x_test))\n",
        "\n",
        "# Encode and decode images\n",
        "decoded_imgs = autoencoder.predict(x_test)\n",
        "\n",
        "# Plot the results\n",
        "import matplotlib.pyplot as plt\n",
        "\n",
        "n = 10\n",
        "plt.figure(figsize=(20, 4))\n",
        "for i in range(n):\n",
        "    # Display original\n",
        "    ax = plt.subplot(2, n, i + 1)\n",
        "    plt.imshow(x_test[i].reshape(28, 28), cmap='gray')\n",
        "    plt.title('Original')\n",
        "    plt.axis('off')\n",
        "\n",
        "    # Display reconstruction\n",
        "    ax = plt.subplot(2, n, i + 1 + n)\n",
        "    plt.imshow(decoded_imgs[i].reshape(28, 28), cmap='gray')\n",
        "    plt.title('Reconstructed')\n",
        "    plt.axis('off')\n",
        "\n",
        "plt.show()\n"
      ],
      "metadata": {
        "colab": {
          "base_uri": "https://localhost:8080/",
          "height": 1000
        },
        "id": "9cUxAosZCWsU",
        "outputId": "19e483e5-13ed-4866-d400-183bcc3a2de9"
      },
      "execution_count": 4,
      "outputs": [
        {
          "output_type": "stream",
          "name": "stdout",
          "text": [
            "Downloading data from https://storage.googleapis.com/tensorflow/tf-keras-datasets/mnist.npz\n",
            "11490434/11490434 [==============================] - 0s 0us/step\n",
            "Epoch 1/50\n",
            "469/469 [==============================] - 17s 24ms/step - loss: 0.0728 - val_loss: 0.0601\n",
            "Epoch 2/50\n",
            "469/469 [==============================] - 10s 22ms/step - loss: 0.0598 - val_loss: 0.0591\n",
            "Epoch 3/50\n",
            "469/469 [==============================] - 10s 22ms/step - loss: 0.0593 - val_loss: 0.0588\n",
            "Epoch 4/50\n",
            "469/469 [==============================] - 10s 22ms/step - loss: 0.0590 - val_loss: 0.0590\n",
            "Epoch 5/50\n",
            "469/469 [==============================] - 10s 22ms/step - loss: 0.0588 - val_loss: 0.0584\n",
            "Epoch 6/50\n",
            "469/469 [==============================] - 10s 22ms/step - loss: 0.0587 - val_loss: 0.0584\n",
            "Epoch 7/50\n",
            "469/469 [==============================] - 11s 23ms/step - loss: 0.0587 - val_loss: 0.0584\n",
            "Epoch 8/50\n",
            "469/469 [==============================] - 11s 23ms/step - loss: 0.0586 - val_loss: 0.0583\n",
            "Epoch 9/50\n",
            "469/469 [==============================] - 11s 23ms/step - loss: 0.0586 - val_loss: 0.0583\n",
            "Epoch 10/50\n",
            "469/469 [==============================] - 11s 23ms/step - loss: 0.0586 - val_loss: 0.0583\n",
            "Epoch 11/50\n",
            "469/469 [==============================] - 11s 23ms/step - loss: 0.0586 - val_loss: 0.0586\n",
            "Epoch 12/50\n",
            "469/469 [==============================] - 10s 22ms/step - loss: 0.0586 - val_loss: 0.0583\n",
            "Epoch 13/50\n",
            "469/469 [==============================] - 10s 22ms/step - loss: 0.0585 - val_loss: 0.0583\n",
            "Epoch 14/50\n",
            "469/469 [==============================] - 10s 22ms/step - loss: 0.0585 - val_loss: 0.0582\n",
            "Epoch 15/50\n",
            "469/469 [==============================] - 11s 22ms/step - loss: 0.0589 - val_loss: 0.0607\n",
            "Epoch 16/50\n",
            "469/469 [==============================] - 10s 22ms/step - loss: 0.0588 - val_loss: 0.0583\n",
            "Epoch 17/50\n",
            "469/469 [==============================] - 10s 22ms/step - loss: 0.0586 - val_loss: 0.0584\n",
            "Epoch 18/50\n",
            "469/469 [==============================] - 10s 22ms/step - loss: 0.0585 - val_loss: 0.0582\n",
            "Epoch 19/50\n",
            "469/469 [==============================] - 10s 22ms/step - loss: 0.0585 - val_loss: 0.0582\n",
            "Epoch 20/50\n",
            "469/469 [==============================] - 10s 22ms/step - loss: 0.0585 - val_loss: 0.0582\n",
            "Epoch 21/50\n",
            "469/469 [==============================] - 11s 23ms/step - loss: 0.0585 - val_loss: 0.0582\n",
            "Epoch 22/50\n",
            "469/469 [==============================] - 11s 22ms/step - loss: 0.0585 - val_loss: 0.0582\n",
            "Epoch 23/50\n",
            "469/469 [==============================] - 11s 22ms/step - loss: 0.0585 - val_loss: 0.0582\n",
            "Epoch 24/50\n",
            "469/469 [==============================] - 10s 22ms/step - loss: 0.0585 - val_loss: 0.0582\n",
            "Epoch 25/50\n",
            "469/469 [==============================] - 10s 22ms/step - loss: 0.0585 - val_loss: 0.0582\n",
            "Epoch 26/50\n",
            "469/469 [==============================] - 10s 22ms/step - loss: 0.0585 - val_loss: 0.0583\n",
            "Epoch 27/50\n",
            "469/469 [==============================] - 10s 22ms/step - loss: 0.0585 - val_loss: 0.0582\n",
            "Epoch 28/50\n",
            "469/469 [==============================] - 10s 22ms/step - loss: 0.0585 - val_loss: 0.0582\n",
            "Epoch 29/50\n",
            "469/469 [==============================] - 10s 22ms/step - loss: 0.0585 - val_loss: 0.0582\n",
            "Epoch 30/50\n",
            "469/469 [==============================] - 11s 22ms/step - loss: 0.0585 - val_loss: 0.0582\n",
            "Epoch 31/50\n",
            "469/469 [==============================] - 10s 22ms/step - loss: 0.0585 - val_loss: 0.0582\n",
            "Epoch 32/50\n",
            "469/469 [==============================] - 10s 22ms/step - loss: 0.0585 - val_loss: 0.0581\n",
            "Epoch 33/50\n",
            "469/469 [==============================] - 11s 22ms/step - loss: 0.0585 - val_loss: 0.0582\n",
            "Epoch 34/50\n",
            "469/469 [==============================] - 10s 22ms/step - loss: 0.0584 - val_loss: 0.0582\n",
            "Epoch 35/50\n",
            "469/469 [==============================] - 10s 22ms/step - loss: 0.0584 - val_loss: 0.0581\n",
            "Epoch 36/50\n",
            "469/469 [==============================] - 10s 22ms/step - loss: 0.0585 - val_loss: 0.0581\n",
            "Epoch 37/50\n",
            "469/469 [==============================] - 10s 22ms/step - loss: 0.0584 - val_loss: 0.0581\n",
            "Epoch 38/50\n",
            "469/469 [==============================] - 10s 22ms/step - loss: 0.0584 - val_loss: 0.0581\n",
            "Epoch 39/50\n",
            "469/469 [==============================] - 10s 22ms/step - loss: 0.0584 - val_loss: 0.0581\n",
            "Epoch 40/50\n",
            "469/469 [==============================] - 10s 22ms/step - loss: 0.0584 - val_loss: 0.0581\n",
            "Epoch 41/50\n",
            "469/469 [==============================] - 10s 22ms/step - loss: 0.0585 - val_loss: 0.0581\n",
            "Epoch 42/50\n",
            "469/469 [==============================] - 10s 22ms/step - loss: 0.0584 - val_loss: 0.0581\n",
            "Epoch 43/50\n",
            "469/469 [==============================] - 10s 22ms/step - loss: 0.0584 - val_loss: 0.0581\n",
            "Epoch 44/50\n",
            "469/469 [==============================] - 10s 22ms/step - loss: 0.0584 - val_loss: 0.0581\n",
            "Epoch 45/50\n",
            "469/469 [==============================] - 10s 22ms/step - loss: 0.0584 - val_loss: 0.0581\n",
            "Epoch 46/50\n",
            "469/469 [==============================] - 10s 22ms/step - loss: 0.0584 - val_loss: 0.0581\n",
            "Epoch 47/50\n",
            "469/469 [==============================] - 10s 22ms/step - loss: 0.0584 - val_loss: 0.0583\n",
            "Epoch 48/50\n",
            "469/469 [==============================] - 10s 22ms/step - loss: 0.0584 - val_loss: 0.0582\n",
            "Epoch 49/50\n",
            "469/469 [==============================] - 10s 22ms/step - loss: 0.0584 - val_loss: 0.0582\n",
            "Epoch 50/50\n",
            "469/469 [==============================] - 10s 22ms/step - loss: 0.0584 - val_loss: 0.0582\n",
            "313/313 [==============================] - 1s 2ms/step\n"
          ]
        },
        {
          "output_type": "display_data",
          "data": {
            "text/plain": [
              "<Figure size 2000x400 with 20 Axes>"
            ],
            "image/png": "[encoded data removed]"
          },
          "metadata": {}
        }
      ]
    },
    {
      "cell_type": "code",
      "source": [],
      "metadata": {
        "id": "0ShdF3xaCsya"
      },
      "execution_count": null,
      "outputs": []
    }
  ]
}