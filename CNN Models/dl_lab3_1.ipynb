{
  "metadata": {
    "colab": {
      "provenance": []
    },
    "kernelspec": {
      "name": "python3",
      "display_name": "Python 3",
      "language": "python"
    },
    "language_info": {
      "name": "python",
      "version": "3.10.13",
      "mimetype": "text/x-python",
      "codemirror_mode": {
        "name": "ipython",
        "version": 3
      },
      "pygments_lexer": "ipython3",
      "nbconvert_exporter": "python",
      "file_extension": ".py"
    },
    "kaggle": {
      "accelerator": "none",
      "dataSources": [
        {
          "sourceId": 9243,
          "sourceType": "datasetVersion",
          "datasetId": 2243
        },
        {
          "sourceId": 7537362,
          "sourceType": "datasetVersion",
          "datasetId": 4389191
        }
      ],
      "isInternetEnabled": false,
      "language": "python",
      "sourceType": "notebook",
      "isGpuEnabled": false
    }
  },
  "nbformat_minor": 0,
  "nbformat": 4,
  "cells": [
    {
      "cell_type": "code",
      "source": [
        "!pip install watermark"
      ],
      "metadata": {
        "execution": {
          "iopub.status.busy": "2024-02-02T15:55:52.031479Z",
          "iopub.execute_input": "2024-02-02T15:55:52.032168Z",
          "iopub.status.idle": "2024-02-02T15:57:46.460410Z",
          "shell.execute_reply.started": "2024-02-02T15:55:52.032123Z",
          "shell.execute_reply": "2024-02-02T15:57:46.459161Z"
        },
        "trusted": true,
        "colab": {
          "base_uri": "https://localhost:8080/"
        },
        "id": "V1zFfJJ6ixox",
        "outputId": "c5b4b41c-cbc7-4de0-bec7-9c05eafb7800"
      },
      "execution_count": 1,
      "outputs": [
        {
          "output_type": "stream",
          "name": "stdout",
          "text": [
            "Collecting watermark\n",
            "  Downloading watermark-2.4.3-py2.py3-none-any.whl (7.6 kB)\n",
            "Requirement already satisfied: ipython>=6.0 in /usr/local/lib/python3.10/dist-packages (from watermark) (7.34.0)\n",
            "Requirement already satisfied: importlib-metadata>=1.4 in /usr/local/lib/python3.10/dist-packages (from watermark) (7.0.1)\n",
            "Requirement already satisfied: setuptools in /usr/local/lib/python3.10/dist-packages (from watermark) (67.7.2)\n",
            "Requirement already satisfied: zipp>=0.5 in /usr/local/lib/python3.10/dist-packages (from importlib-metadata>=1.4->watermark) (3.17.0)\n",
            "Collecting jedi>=0.16 (from ipython>=6.0->watermark)\n",
            "  Downloading jedi-0.19.1-py2.py3-none-any.whl (1.6 MB)\n",
            "\u001b[2K     \u001b[90m━━━━━━━━━━━━━━━━━━━━━━━━━━━━━━━━━━━━━━━━\u001b[0m \u001b[32m1.6/1.6 MB\u001b[0m \u001b[31m8.0 MB/s\u001b[0m eta \u001b[36m0:00:00\u001b[0m\n",
            "\u001b[?25hRequirement already satisfied: decorator in /usr/local/lib/python3.10/dist-packages (from ipython>=6.0->watermark) (4.4.2)\n",
            "Requirement already satisfied: pickleshare in /usr/local/lib/python3.10/dist-packages (from ipython>=6.0->watermark) (0.7.5)\n",
            "Requirement already satisfied: traitlets>=4.2 in /usr/local/lib/python3.10/dist-packages (from ipython>=6.0->watermark) (5.7.1)\n",
            "Requirement already satisfied: prompt-toolkit!=3.0.0,!=3.0.1,<3.1.0,>=2.0.0 in /usr/local/lib/python3.10/dist-packages (from ipython>=6.0->watermark) (3.0.43)\n",
            "Requirement already satisfied: pygments in /usr/local/lib/python3.10/dist-packages (from ipython>=6.0->watermark) (2.16.1)\n",
            "Requirement already satisfied: backcall in /usr/local/lib/python3.10/dist-packages (from ipython>=6.0->watermark) (0.2.0)\n",
            "Requirement already satisfied: matplotlib-inline in /usr/local/lib/python3.10/dist-packages (from ipython>=6.0->watermark) (0.1.6)\n",
            "Requirement already satisfied: pexpect>4.3 in /usr/local/lib/python3.10/dist-packages (from ipython>=6.0->watermark) (4.9.0)\n",
            "Requirement already satisfied: parso<0.9.0,>=0.8.3 in /usr/local/lib/python3.10/dist-packages (from jedi>=0.16->ipython>=6.0->watermark) (0.8.3)\n",
            "Requirement already satisfied: ptyprocess>=0.5 in /usr/local/lib/python3.10/dist-packages (from pexpect>4.3->ipython>=6.0->watermark) (0.7.0)\n",
            "Requirement already satisfied: wcwidth in /usr/local/lib/python3.10/dist-packages (from prompt-toolkit!=3.0.0,!=3.0.1,<3.1.0,>=2.0.0->ipython>=6.0->watermark) (0.2.13)\n",
            "Installing collected packages: jedi, watermark\n",
            "Successfully installed jedi-0.19.1 watermark-2.4.3\n"
          ]
        }
      ]
    },
    {
      "cell_type": "code",
      "source": [
        "%load_ext watermark"
      ],
      "metadata": {
        "id": "V81smMCFjARa"
      },
      "execution_count": 3,
      "outputs": []
    },
    {
      "cell_type": "code",
      "source": [
        "%watermark -a \"Rishit Kapoor 21BAI1046\" -u -d -v -m"
      ],
      "metadata": {
        "trusted": true,
        "colab": {
          "base_uri": "https://localhost:8080/"
        },
        "id": "cAmFb9ILixo0",
        "outputId": "fcb1a9b3-0e07-4930-b475-34a96a3cb9dd"
      },
      "execution_count": 5,
      "outputs": [
        {
          "output_type": "stream",
          "name": "stdout",
          "text": [
            "Author: Rishit Kapoor 21BAI1046\n",
            "\n",
            "Last updated: 2024-02-02\n",
            "\n",
            "Python implementation: CPython\n",
            "Python version       : 3.10.12\n",
            "IPython version      : 7.34.0\n",
            "\n",
            "Compiler    : GCC 11.4.0\n",
            "OS          : Linux\n",
            "Release     : 6.1.58+\n",
            "Machine     : x86_64\n",
            "Processor   : x86_64\n",
            "CPU cores   : 2\n",
            "Architecture: 64bit\n",
            "\n"
          ]
        }
      ]
    },
    {
      "cell_type": "markdown",
      "source": [
        "\n",
        "# Convolutional Neural Network on the Fashion MNIST Dataset\n",
        "This is a notebook that builds and trains a simple CNN on the ever so popular. The MNIST dataset is a large collection of labelled fashion images\n",
        "\n",
        "\n",
        "Our mission - we have no choice but to accept it - is to fit a basic CNN on the data and get a good testing accuracy.\n",
        "\n",
        "We start off by **importing the necessary libraries**"
      ],
      "metadata": {
        "id": "AZUA_GDKsOHF"
      }
    },
    {
      "cell_type": "markdown",
      "source": [
        "**Formatting Data**\n",
        "\n",
        "Next, we're going to format our data. Data formatting is a tedious but crucial part of deep learning. It is necessary to format your inputs in a way that will be easy to understand for the model you are trying to train. We have formatted the data for you but in the future, you will have to pay close attention to what the dataset contains and what your model actually needs."
      ],
      "metadata": {
        "id": "kplhYwCa0zIc"
      }
    },
    {
      "cell_type": "code",
      "source": [
        "import pandas as pd\n",
        "import numpy as np\n",
        "import tensorflow as tf\n",
        "from tensorflow.keras.models import Sequential\n",
        "from tensorflow.keras.layers import Conv2D, MaxPooling2D, Flatten, Dense, Dropout\n",
        "from tensorflow.keras.utils import to_categorical\n",
        "from sklearn.model_selection import train_test_split\n",
        "\n",
        "# Load the data\n",
        "data_train = pd.read_csv(\"/kaggle/input/fashionmnist/fashion-mnist_train.csv\")\n",
        "data_test = pd.read_csv(\"/kaggle/input/fashionmnist/fashion-mnist_test.csv\")\n",
        "\n",
        "# Prepare data\n",
        "X_train = data_train.drop('label', axis=1).values.reshape(-1, 28, 28, 1) / 255.0  # Reshape for Conv2D\n",
        "y_train = to_categorical(data_train['label'].values, num_classes=10)  # Assuming 10 classes\n",
        "\n",
        "X_test = data_test.drop('label', axis=1).values.reshape(-1, 28, 28, 1) / 255.0\n",
        "y_test = to_categorical(data_test['label'].values, num_classes=10)\n",
        "\n",
        "# Split the data (if needed)\n",
        "# X_train, X_val, y_train, y_val = train_test_split(X_train, y_train, test_size=0.2, random_state=42)\n",
        "\n",
        "# Build the model\n",
        "model = Sequential()\n",
        "model.add(Conv2D(28, kernel_size=(3, 3), input_shape=(28, 28, 1)))\n",
        "model.add(MaxPooling2D(pool_size=(2, 2)))\n",
        "model.add(Flatten())\n",
        "model.add(Dense(128, activation=tf.nn.relu, use_bias=True))\n",
        "model.add(Dropout(0.5))\n",
        "model.add(Dense(70, activation=tf.nn.relu, use_bias=True))\n",
        "model.add(Dropout(0.5))\n",
        "model.add(Dense(10, activation=tf.nn.softmax))\n",
        "\n",
        "# Compile the model\n",
        "model.compile(optimizer='adam', loss='categorical_crossentropy', metrics=['accuracy'])\n",
        "\n",
        "# Train the model\n",
        "model.fit(X_train, y_train, batch_size=60,epochs=10, validation_data=(X_test, y_test))\n"
      ],
      "metadata": {
        "execution": {
          "iopub.status.busy": "2024-02-02T14:59:37.156192Z",
          "iopub.execute_input": "2024-02-02T14:59:37.156528Z",
          "iopub.status.idle": "2024-02-02T15:02:03.097824Z",
          "shell.execute_reply.started": "2024-02-02T14:59:37.156501Z",
          "shell.execute_reply": "2024-02-02T15:02:03.096377Z"
        },
        "trusted": true,
        "id": "bjjPQcVDixo1",
        "outputId": "9e4b7062-5bbf-4eb1-b7be-abfa5686baba"
      },
      "execution_count": null,
      "outputs": [
        {
          "name": "stdout",
          "text": "Epoch 1/10\n1000/1000 [==============================] - 15s 15ms/step - loss: 0.6959 - accuracy: 0.7598 - val_loss: 0.3684 - val_accuracy: 0.8691\nEpoch 2/10\n1000/1000 [==============================] - 14s 14ms/step - loss: 0.4509 - accuracy: 0.8455 - val_loss: 0.3180 - val_accuracy: 0.8859\nEpoch 3/10\n1000/1000 [==============================] - 14s 14ms/step - loss: 0.3977 - accuracy: 0.8651 - val_loss: 0.3030 - val_accuracy: 0.8902\nEpoch 4/10\n1000/1000 [==============================] - 14s 14ms/step - loss: 0.3640 - accuracy: 0.8748 - val_loss: 0.2734 - val_accuracy: 0.9015\nEpoch 5/10\n1000/1000 [==============================] - 14s 14ms/step - loss: 0.3380 - accuracy: 0.8828 - val_loss: 0.2773 - val_accuracy: 0.9023\nEpoch 6/10\n1000/1000 [==============================] - 14s 14ms/step - loss: 0.3237 - accuracy: 0.8869 - val_loss: 0.2867 - val_accuracy: 0.8992\nEpoch 7/10\n1000/1000 [==============================] - 13s 13ms/step - loss: 0.3066 - accuracy: 0.8926 - val_loss: 0.2698 - val_accuracy: 0.9038\nEpoch 8/10\n1000/1000 [==============================] - 14s 14ms/step - loss: 0.2938 - accuracy: 0.8974 - val_loss: 0.2630 - val_accuracy: 0.9078\nEpoch 9/10\n1000/1000 [==============================] - 14s 14ms/step - loss: 0.2822 - accuracy: 0.9008 - val_loss: 0.2661 - val_accuracy: 0.9089\nEpoch 10/10\n1000/1000 [==============================] - 14s 14ms/step - loss: 0.2750 - accuracy: 0.9046 - val_loss: 0.2596 - val_accuracy: 0.9103\n",
          "output_type": "stream"
        },
        {
          "execution_count": 38,
          "output_type": "execute_result",
          "data": {
            "text/plain": "<keras.src.callbacks.History at 0x7b38da78d6f0>"
          },
          "metadata": {}
        }
      ]
    },
    {
      "cell_type": "code",
      "source": [
        "test_loss, test_acc = model.evaluate(X_test, y_test)\n",
        "print('\\nTest accuracy:', test_acc)"
      ],
      "metadata": {
        "execution": {
          "iopub.status.busy": "2024-02-02T15:02:05.196219Z",
          "iopub.execute_input": "2024-02-02T15:02:05.196890Z",
          "iopub.status.idle": "2024-02-02T15:02:06.780046Z",
          "shell.execute_reply.started": "2024-02-02T15:02:05.196858Z",
          "shell.execute_reply": "2024-02-02T15:02:06.778929Z"
        },
        "trusted": true,
        "id": "f8mJU62kixo1",
        "outputId": "520fb3b5-8105-40dc-ae41-b211f5ec4230"
      },
      "execution_count": null,
      "outputs": [
        {
          "name": "stdout",
          "text": "313/313 [==============================] - 1s 5ms/step - loss: 0.2596 - accuracy: 0.9103\n\nTest accuracy: 0.9103000164031982\n",
          "output_type": "stream"
        }
      ]
    }
  ]
}