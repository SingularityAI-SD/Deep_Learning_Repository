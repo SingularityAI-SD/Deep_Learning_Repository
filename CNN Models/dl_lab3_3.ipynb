{
  "metadata": {
    "kernelspec": {
      "language": "python",
      "display_name": "Python 3",
      "name": "python3"
    },
    "language_info": {
      "name": "python",
      "version": "3.10.13",
      "mimetype": "text/x-python",
      "codemirror_mode": {
        "name": "ipython",
        "version": 3
      },
      "pygments_lexer": "ipython3",
      "nbconvert_exporter": "python",
      "file_extension": ".py"
    },
    "kaggle": {
      "accelerator": "none",
      "dataSources": [
        {
          "sourceId": 2609027,
          "sourceType": "datasetVersion",
          "datasetId": 5857
        }
      ],
      "dockerImageVersionId": 30646,
      "isInternetEnabled": false,
      "language": "python",
      "sourceType": "notebook",
      "isGpuEnabled": false
    },
    "colab": {
      "name": "DL_Lab3_3",
      "provenance": []
    }
  },
  "nbformat_minor": 0,
  "nbformat": 4,
  "cells": [
    {
      "cell_type": "code",
      "source": [
        "!pip install watermark"
      ],
      "metadata": {
        "id": "3oZg3we1wcmd",
        "outputId": "0319eafa-2c14-4135-b251-fef7f2eb9eef",
        "colab": {
          "base_uri": "https://localhost:8080/"
        }
      },
      "execution_count": 10,
      "outputs": [
        {
          "output_type": "stream",
          "name": "stdout",
          "text": [
            "Collecting watermark\n",
            "  Downloading watermark-2.4.3-py2.py3-none-any.whl (7.6 kB)\n",
            "Requirement already satisfied: ipython>=6.0 in /usr/local/lib/python3.10/dist-packages (from watermark) (7.34.0)\n",
            "Requirement already satisfied: importlib-metadata>=1.4 in /usr/local/lib/python3.10/dist-packages (from watermark) (7.0.1)\n",
            "Requirement already satisfied: setuptools in /usr/local/lib/python3.10/dist-packages (from watermark) (67.7.2)\n",
            "Requirement already satisfied: zipp>=0.5 in /usr/local/lib/python3.10/dist-packages (from importlib-metadata>=1.4->watermark) (3.17.0)\n",
            "Collecting jedi>=0.16 (from ipython>=6.0->watermark)\n",
            "  Downloading jedi-0.19.1-py2.py3-none-any.whl (1.6 MB)\n",
            "\u001b[2K     \u001b[90m━━━━━━━━━━━━━━━━━━━━━━━━━━━━━━━━━━━━━━━━\u001b[0m \u001b[32m1.6/1.6 MB\u001b[0m \u001b[31m15.8 MB/s\u001b[0m eta \u001b[36m0:00:00\u001b[0m\n",
            "\u001b[?25hRequirement already satisfied: decorator in /usr/local/lib/python3.10/dist-packages (from ipython>=6.0->watermark) (4.4.2)\n",
            "Requirement already satisfied: pickleshare in /usr/local/lib/python3.10/dist-packages (from ipython>=6.0->watermark) (0.7.5)\n",
            "Requirement already satisfied: traitlets>=4.2 in /usr/local/lib/python3.10/dist-packages (from ipython>=6.0->watermark) (5.7.1)\n",
            "Requirement already satisfied: prompt-toolkit!=3.0.0,!=3.0.1,<3.1.0,>=2.0.0 in /usr/local/lib/python3.10/dist-packages (from ipython>=6.0->watermark) (3.0.43)\n",
            "Requirement already satisfied: pygments in /usr/local/lib/python3.10/dist-packages (from ipython>=6.0->watermark) (2.16.1)\n",
            "Requirement already satisfied: backcall in /usr/local/lib/python3.10/dist-packages (from ipython>=6.0->watermark) (0.2.0)\n",
            "Requirement already satisfied: matplotlib-inline in /usr/local/lib/python3.10/dist-packages (from ipython>=6.0->watermark) (0.1.6)\n",
            "Requirement already satisfied: pexpect>4.3 in /usr/local/lib/python3.10/dist-packages (from ipython>=6.0->watermark) (4.9.0)\n",
            "Requirement already satisfied: parso<0.9.0,>=0.8.3 in /usr/local/lib/python3.10/dist-packages (from jedi>=0.16->ipython>=6.0->watermark) (0.8.3)\n",
            "Requirement already satisfied: ptyprocess>=0.5 in /usr/local/lib/python3.10/dist-packages (from pexpect>4.3->ipython>=6.0->watermark) (0.7.0)\n",
            "Requirement already satisfied: wcwidth in /usr/local/lib/python3.10/dist-packages (from prompt-toolkit!=3.0.0,!=3.0.1,<3.1.0,>=2.0.0->ipython>=6.0->watermark) (0.2.13)\n",
            "Installing collected packages: jedi, watermark\n",
            "Successfully installed jedi-0.19.1 watermark-2.4.3\n"
          ]
        }
      ]
    },
    {
      "cell_type": "code",
      "source": [
        "%load_ext watermark"
      ],
      "metadata": {
        "id": "dlm0sc4iwdeZ"
      },
      "execution_count": 11,
      "outputs": []
    },
    {
      "cell_type": "code",
      "source": [
        "%watermark -a \"Rishit Kapoor 21BAI1046\" -u -d -v -m"
      ],
      "metadata": {
        "id": "YvXsiOd9wfTk",
        "outputId": "7ee133e7-4759-45a6-f9c0-4f263ae3de1c",
        "colab": {
          "base_uri": "https://localhost:8080/"
        }
      },
      "execution_count": 12,
      "outputs": [
        {
          "output_type": "stream",
          "name": "stdout",
          "text": [
            "Author: Rishit Kapoor 21BAI1046\n",
            "\n",
            "Last updated: 2024-02-02\n",
            "\n",
            "Python implementation: CPython\n",
            "Python version       : 3.10.12\n",
            "IPython version      : 7.34.0\n",
            "\n",
            "Compiler    : GCC 11.4.0\n",
            "OS          : Linux\n",
            "Release     : 6.1.58+\n",
            "Machine     : x86_64\n",
            "Processor   : x86_64\n",
            "CPU cores   : 2\n",
            "Architecture: 64bit\n",
            "\n"
          ]
        }
      ]
    },
    {
      "source": [
        "\n",
        "# IMPORTANT: RUN THIS CELL IN ORDER TO IMPORT YOUR KAGGLE DATA SOURCES\n",
        "# TO THE CORRECT LOCATION (/kaggle/input) IN YOUR NOTEBOOK,\n",
        "# THEN FEEL FREE TO DELETE THIS CELL.\n",
        "# NOTE: THIS NOTEBOOK ENVIRONMENT DIFFERS FROM KAGGLE'S PYTHON\n",
        "# ENVIRONMENT SO THERE MAY BE MISSING LIBRARIES USED BY YOUR\n",
        "# NOTEBOOK.\n",
        "\n",
        "import os\n",
        "import sys\n",
        "from tempfile import NamedTemporaryFile\n",
        "from urllib.request import urlopen\n",
        "from urllib.parse import unquote, urlparse\n",
        "from urllib.error import HTTPError\n",
        "from zipfile import ZipFile\n",
        "import tarfile\n",
        "import shutil\n",
        "\n",
        "CHUNK_SIZE = 40960\n",
        "DATA_SOURCE_MAPPING = 'fruits:https%3A%2F%2Fstorage.googleapis.com%2Fkaggle-data-sets%2F5857%2F2609027%2Fbundle%2Farchive.zip%3FX-Goog-Algorithm%3DGOOG4-RSA-SHA256%26X-Goog-Credential%3Dgcp-kaggle-com%2540kaggle-161607.iam.gserviceaccount.com%252F20240202%252Fauto%252Fstorage%252Fgoog4_request%26X-Goog-Date%3D20240202T165424Z%26X-Goog-Expires%3D259200%26X-Goog-SignedHeaders%3Dhost%26X-Goog-Signature%3D245f100ae82b7a4e434168e560cbf3a68140f3c639188c6285b06515372cead86a843cf3452960f07874fe8fe3faec9b2ad3edac600ac2d51111f5b3bbed6a1e48be1277c68ddfb6741b605a164608c1dba0ef226b64b5fc69801a6f40cd9d9200b92dc6d1115489bc4f10145fbabb8de2b68bce7d313204c7a17792941febb47aaf062717e90300d0b23c984e612f11f58493c78dcd226f8764527efe2a7fc7924a0fc9f385891f7c7eb5f8b93d1ef5d2ebc640bfcf95f4151861c8251231ed5c37f93d450997325bda2d4ad1ee7648ac6cfeec5e71391e7b110d0e8aa0a6b413494a90d6e6b0f0a287f88c786861d749a03da042638d6efab857da600a1a90'\n",
        "\n",
        "KAGGLE_INPUT_PATH='/kaggle/input'\n",
        "KAGGLE_WORKING_PATH='/kaggle/working'\n",
        "KAGGLE_SYMLINK='kaggle'\n",
        "\n",
        "!umount /kaggle/input/ 2> /dev/null\n",
        "shutil.rmtree('/kaggle/input', ignore_errors=True)\n",
        "os.makedirs(KAGGLE_INPUT_PATH, 0o777, exist_ok=True)\n",
        "os.makedirs(KAGGLE_WORKING_PATH, 0o777, exist_ok=True)\n",
        "\n",
        "try:\n",
        "  os.symlink(KAGGLE_INPUT_PATH, os.path.join(\"..\", 'input'), target_is_directory=True)\n",
        "except FileExistsError:\n",
        "  pass\n",
        "try:\n",
        "  os.symlink(KAGGLE_WORKING_PATH, os.path.join(\"..\", 'working'), target_is_directory=True)\n",
        "except FileExistsError:\n",
        "  pass\n",
        "\n",
        "for data_source_mapping in DATA_SOURCE_MAPPING.split(','):\n",
        "    directory, download_url_encoded = data_source_mapping.split(':')\n",
        "    download_url = unquote(download_url_encoded)\n",
        "    filename = urlparse(download_url).path\n",
        "    destination_path = os.path.join(KAGGLE_INPUT_PATH, directory)\n",
        "    try:\n",
        "        with urlopen(download_url) as fileres, NamedTemporaryFile() as tfile:\n",
        "            total_length = fileres.headers['content-length']\n",
        "            print(f'Downloading {directory}, {total_length} bytes compressed')\n",
        "            dl = 0\n",
        "            data = fileres.read(CHUNK_SIZE)\n",
        "            while len(data) > 0:\n",
        "                dl += len(data)\n",
        "                tfile.write(data)\n",
        "                done = int(50 * dl / int(total_length))\n",
        "                sys.stdout.write(f\"\\r[{'=' * done}{' ' * (50-done)}] {dl} bytes downloaded\")\n",
        "                sys.stdout.flush()\n",
        "                data = fileres.read(CHUNK_SIZE)\n",
        "            if filename.endswith('.zip'):\n",
        "              with ZipFile(tfile) as zfile:\n",
        "                zfile.extractall(destination_path)\n",
        "            else:\n",
        "              with tarfile.open(tfile.name) as tarfile:\n",
        "                tarfile.extractall(destination_path)\n",
        "            print(f'\\nDownloaded and uncompressed: {directory}')\n",
        "    except HTTPError as e:\n",
        "        print(f'Failed to load (likely expired) {download_url} to path {destination_path}')\n",
        "        continue\n",
        "    except OSError as e:\n",
        "        print(f'Failed to load {download_url} to path {destination_path}')\n",
        "        continue\n",
        "\n",
        "print('Data source import complete.')\n"
      ],
      "metadata": {
        "id": "pE2pPjZDvjNf",
        "outputId": "e4246a1e-dfca-4a94-87a0-1e1945919fff",
        "colab": {
          "base_uri": "https://localhost:8080/"
        }
      },
      "cell_type": "code",
      "outputs": [
        {
          "output_type": "stream",
          "name": "stdout",
          "text": [
            "Downloading fruits, 1379678841 bytes compressed\n",
            "[==================================================] 1379678841 bytes downloaded\n",
            "Downloaded and uncompressed: fruits\n",
            "Data source import complete.\n"
          ]
        }
      ],
      "execution_count": 1
    },
    {
      "cell_type": "code",
      "source": [
        "import numpy as np # linear algebra\n",
        "import pandas as pd # data processing, CSV file I/O (e.g. pd.read_csv)\n",
        "import tensorflow as tf\n",
        "import matplotlib.pyplot as plt\n",
        "import seaborn as sns\n",
        "\n",
        "plt.rcParams['figure.figsize'] = (20,8)"
      ],
      "metadata": {
        "execution": {
          "iopub.status.busy": "2024-02-02T16:38:50.454864Z",
          "iopub.execute_input": "2024-02-02T16:38:50.455207Z",
          "iopub.status.idle": "2024-02-02T16:39:08.144295Z",
          "shell.execute_reply.started": "2024-02-02T16:38:50.45518Z",
          "shell.execute_reply": "2024-02-02T16:39:08.143098Z"
        },
        "trusted": true,
        "id": "ntP3TAocvjNk"
      },
      "execution_count": 2,
      "outputs": []
    },
    {
      "cell_type": "code",
      "source": [
        "from tensorflow.keras.preprocessing.image import ImageDataGenerator, load_img, img_to_array"
      ],
      "metadata": {
        "execution": {
          "iopub.status.busy": "2024-02-02T16:39:10.477128Z",
          "iopub.execute_input": "2024-02-02T16:39:10.477778Z",
          "iopub.status.idle": "2024-02-02T16:39:10.617205Z",
          "shell.execute_reply.started": "2024-02-02T16:39:10.477745Z",
          "shell.execute_reply": "2024-02-02T16:39:10.616056Z"
        },
        "trusted": true,
        "id": "2lmphnFuvjNl"
      },
      "execution_count": 3,
      "outputs": []
    },
    {
      "cell_type": "code",
      "source": [
        "img_size = 100\n",
        "batch_size = 120\n",
        "\n",
        "train_datagen = ImageDataGenerator(rescale=1/255.,rotation_range=15,width_shift_range=0.2,height_shift_range=0.2,zoom_range=0.2,horizontal_flip=True,fill_mode='nearest')\n",
        "test_datagen = ImageDataGenerator(rescale=1/255.)\n",
        "\n",
        "train_generator = train_datagen.flow_from_directory('/kaggle/input/fruits/fruits-360_dataset/fruits-360/Training',target_size=(img_size, img_size),batch_size=batch_size,shuffle=True,class_mode='sparse')\n",
        "test_generator = test_datagen.flow_from_directory('/kaggle/input/fruits/fruits-360_dataset/fruits-360/Test',target_size=(img_size, img_size),batch_size=batch_size,shuffle=False,class_mode='sparse')"
      ],
      "metadata": {
        "execution": {
          "iopub.status.busy": "2024-02-02T16:48:48.628727Z",
          "iopub.execute_input": "2024-02-02T16:48:48.629233Z",
          "iopub.status.idle": "2024-02-02T16:48:51.072718Z",
          "shell.execute_reply.started": "2024-02-02T16:48:48.629192Z",
          "shell.execute_reply": "2024-02-02T16:48:51.071547Z"
        },
        "trusted": true,
        "id": "vB1Onn9OvjNm",
        "outputId": "6398b12c-92d8-45b8-9132-891f0605a6f3",
        "colab": {
          "base_uri": "https://localhost:8080/"
        }
      },
      "execution_count": 4,
      "outputs": [
        {
          "output_type": "stream",
          "name": "stdout",
          "text": [
            "Found 67692 images belonging to 131 classes.\n",
            "Found 22688 images belonging to 131 classes.\n"
          ]
        }
      ]
    },
    {
      "cell_type": "code",
      "source": [
        "import os\n",
        "\n",
        "#acquiring a list of all class names\n",
        "\n",
        "class_names_train = os.listdir('/kaggle/input/fruits/fruits-360_dataset/fruits-360/Training')\n",
        "print(class_names_train)"
      ],
      "metadata": {
        "execution": {
          "iopub.status.busy": "2024-02-02T16:48:54.952541Z",
          "iopub.execute_input": "2024-02-02T16:48:54.952947Z",
          "iopub.status.idle": "2024-02-02T16:48:54.959721Z",
          "shell.execute_reply.started": "2024-02-02T16:48:54.952915Z",
          "shell.execute_reply": "2024-02-02T16:48:54.958264Z"
        },
        "trusted": true,
        "id": "0Rl9n6NrvjNm",
        "outputId": "6b348207-063c-4f5f-d8db-dd61864620d8",
        "colab": {
          "base_uri": "https://localhost:8080/"
        }
      },
      "execution_count": 5,
      "outputs": [
        {
          "output_type": "stream",
          "name": "stdout",
          "text": [
            "['Rambutan', 'Pepper Red', 'Fig', 'Corn Husk', 'Melon Piel de Sapo', 'Pear Red', 'Cherry 2', 'Potato Red', 'Physalis with Husk', 'Grapefruit White', 'Mangostan', 'Apple Golden 2', 'Pepper Yellow', 'Nectarine', 'Walnut', 'Pear', 'Cactus fruit', 'Peach', 'Pineapple', 'Apricot', 'Kumquats', 'Physalis', 'Apple Red 2', 'Tamarillo', 'Avocado', 'Tangelo', 'Redcurrant', 'Huckleberry', 'Tomato Yellow', 'Onion Red', 'Limes', 'Pear Williams', 'Maracuja', 'Mango', 'Onion Red Peeled', 'Dates', 'Grape Pink', 'Pomegranate', 'Papaya', 'Carambula', 'Tomato Maroon', 'Banana', 'Cherry Wax Red', 'Watermelon', 'Pear Forelle', 'Apple Granny Smith', 'Mango Red', 'Raspberry', 'Apple Golden 3', 'Tomato 2', 'Nut Forest', 'Cocos', 'Tomato Heart', 'Apple Pink Lady', 'Onion White', 'Cherry Wax Black', 'Salak', 'Grape White 3', 'Apple Red Delicious', 'Tomato 1', 'Tomato 3', 'Pepino', 'Grape White 2', 'Cherry Rainier', 'Cucumber Ripe 2', 'Potato Red Washed', 'Nut Pecan', 'Tomato Cherry Red', 'Guava', 'Apple Red Yellow 1', 'Banana Red', 'Strawberry Wedge', 'Pomelo Sweetie', 'Orange', 'Grape Blue', 'Cantaloupe 2', 'Kiwi', 'Grapefruit Pink', 'Mulberry', 'Apple Red 1', 'Lemon Meyer', 'Pitahaya Red', 'Pear 2', 'Cherry 1', 'Lychee', 'Beetroot', 'Granadilla', 'Blueberry', 'Apple Red 3', 'Peach 2', 'Pepper Green', 'Strawberry', 'Eggplant', 'Pear Abate', 'Apple Red Yellow 2', 'Chestnut', 'Tomato 4', 'Kaki', 'Mandarine', 'Potato Sweet', 'Cantaloupe 1', 'Plum 3', 'Hazelnut', 'Avocado ripe', 'Plum 2', 'Pear Stone', 'Apple Crimson Snow', 'Cucumber Ripe', 'Quince', 'Nectarine Flat', 'Plum', 'Ginger Root', 'Lemon', 'Kohlrabi', 'Pear Monster', 'Apple Golden 1', 'Banana Lady Finger', 'Pineapple Mini', 'Clementine', 'Pear Kaiser', 'Pepper Orange', 'Grape White', 'Tomato not Ripened', 'Cherry Wax Yellow', 'Potato White', 'Grape White 4', 'Passion Fruit', 'Peach Flat', 'Cauliflower', 'Apple Braeburn', 'Corn']\n"
          ]
        }
      ]
    },
    {
      "cell_type": "code",
      "source": [
        "from sklearn.preprocessing import LabelEncoder\n",
        "\n",
        "\n",
        "le = LabelEncoder()\n",
        "\n",
        "# Fit the LabelEncoder object to the class names to obtain the class labels\n",
        "le.fit(class_names_train)\n",
        "\n",
        "# Convert the class names to their corresponding integer labels\n",
        "class_labels_train = le.transform(class_names_train)"
      ],
      "metadata": {
        "execution": {
          "iopub.status.busy": "2024-02-02T16:48:57.250453Z",
          "iopub.execute_input": "2024-02-02T16:48:57.250899Z",
          "iopub.status.idle": "2024-02-02T16:48:57.258639Z",
          "shell.execute_reply.started": "2024-02-02T16:48:57.250868Z",
          "shell.execute_reply": "2024-02-02T16:48:57.25743Z"
        },
        "trusted": true,
        "id": "rjH1slILvjNn"
      },
      "execution_count": 6,
      "outputs": []
    },
    {
      "cell_type": "code",
      "source": [
        "from tensorflow.keras.models import Sequential, Model\n",
        "from tensorflow.keras.layers import Conv2D, MaxPooling2D, Flatten, Dense, Input, Dropout\n",
        "\n",
        "model = Sequential()\n",
        "\n",
        "model.add(Conv2D(64, (3,3), input_shape= (img_size,img_size,3), activation = 'relu', padding = 'same')) #padding = same size output\n",
        "model.add(MaxPooling2D())\n",
        "\n",
        "model.add(Conv2D(64, (3,3), activation = 'relu', padding = 'same'))\n",
        "model.add(MaxPooling2D())\n",
        "\n",
        "model.add(Conv2D(128, (3,3), activation = 'relu', padding = 'same'))\n",
        "model.add(MaxPooling2D())\n",
        "\n",
        "model.add(Conv2D(256, (3,3), activation = 'relu', padding = 'same'))\n",
        "model.add(MaxPooling2D())\n",
        "\n",
        "model.add(Flatten())\n",
        "\n",
        "model.add(Dense(256, activation='relu'))\n",
        "model.add(Dropout(0.3))\n",
        "model.add(Dense(131, activation = 'softmax'))\n",
        "\n",
        "\n",
        "model.compile(optimizer = 'adam', loss='sparse_categorical_crossentropy', metrics=['accuracy'])\n",
        "\n",
        "model.summary()"
      ],
      "metadata": {
        "execution": {
          "iopub.status.busy": "2024-02-02T16:48:59.44055Z",
          "iopub.execute_input": "2024-02-02T16:48:59.441085Z",
          "iopub.status.idle": "2024-02-02T16:48:59.707254Z",
          "shell.execute_reply.started": "2024-02-02T16:48:59.44104Z",
          "shell.execute_reply": "2024-02-02T16:48:59.706302Z"
        },
        "trusted": true,
        "id": "5f7bxKU2vjNn",
        "outputId": "fadd2a1d-f7d4-4a42-c9e2-192243f2f7f5",
        "colab": {
          "base_uri": "https://localhost:8080/"
        }
      },
      "execution_count": 7,
      "outputs": [
        {
          "output_type": "stream",
          "name": "stdout",
          "text": [
            "Model: \"sequential\"\n",
            "_________________________________________________________________\n",
            " Layer (type)                Output Shape              Param #   \n",
            "=================================================================\n",
            " conv2d (Conv2D)             (None, 100, 100, 64)      1792      \n",
            "                                                                 \n",
            " max_pooling2d (MaxPooling2  (None, 50, 50, 64)        0         \n",
            " D)                                                              \n",
            "                                                                 \n",
            " conv2d_1 (Conv2D)           (None, 50, 50, 64)        36928     \n",
            "                                                                 \n",
            " max_pooling2d_1 (MaxPoolin  (None, 25, 25, 64)        0         \n",
            " g2D)                                                            \n",
            "                                                                 \n",
            " conv2d_2 (Conv2D)           (None, 25, 25, 128)       73856     \n",
            "                                                                 \n",
            " max_pooling2d_2 (MaxPoolin  (None, 12, 12, 128)       0         \n",
            " g2D)                                                            \n",
            "                                                                 \n",
            " conv2d_3 (Conv2D)           (None, 12, 12, 256)       295168    \n",
            "                                                                 \n",
            " max_pooling2d_3 (MaxPoolin  (None, 6, 6, 256)         0         \n",
            " g2D)                                                            \n",
            "                                                                 \n",
            " flatten (Flatten)           (None, 9216)              0         \n",
            "                                                                 \n",
            " dense (Dense)               (None, 256)               2359552   \n",
            "                                                                 \n",
            " dropout (Dropout)           (None, 256)               0         \n",
            "                                                                 \n",
            " dense_1 (Dense)             (None, 131)               33667     \n",
            "                                                                 \n",
            "=================================================================\n",
            "Total params: 2800963 (10.68 MB)\n",
            "Trainable params: 2800963 (10.68 MB)\n",
            "Non-trainable params: 0 (0.00 Byte)\n",
            "_________________________________________________________________\n"
          ]
        }
      ]
    },
    {
      "cell_type": "code",
      "source": [
        "from keras.callbacks import EarlyStopping\n",
        "\n",
        "#early_stopping = EarlyStopping(monitor='val_loss', patience=5)\n",
        "\n",
        "history = model.fit(\n",
        "    train_generator,\n",
        "    validation_data=test_generator,\n",
        "    epochs=1,\n",
        "    batch_size = 120\n",
        ")"
      ],
      "metadata": {
        "execution": {
          "iopub.status.busy": "2024-02-02T16:49:07.715657Z",
          "iopub.execute_input": "2024-02-02T16:49:07.716154Z"
        },
        "trusted": true,
        "id": "8Wf7rqIMvjNn",
        "outputId": "e96d0612-42fb-40ae-a333-68b7458610ba",
        "colab": {
          "base_uri": "https://localhost:8080/"
        }
      },
      "execution_count": null,
      "outputs": [
        {
          "output_type": "stream",
          "name": "stdout",
          "text": [
            "  9/565 [..............................] - ETA: 43:51 - loss: 1.5237 - accuracy: 0.5176"
          ]
        }
      ]
    },
    {
      "cell_type": "code",
      "source": [
        "result = model.evaluate(test_generator)"
      ],
      "metadata": {
        "id": "3Of32R3-vjNo"
      },
      "execution_count": null,
      "outputs": []
    },
    {
      "cell_type": "code",
      "source": [],
      "metadata": {
        "id": "I5FyQXi_vjNo"
      },
      "execution_count": null,
      "outputs": []
    }
  ]
}